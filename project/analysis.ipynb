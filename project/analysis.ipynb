{
 "cells": [
  {
   "cell_type": "code",
   "execution_count": 10,
   "metadata": {},
   "outputs": [],
   "source": [
    "import math\n",
    "from pathlib import Path\n",
    "\n",
    "import matplotlib.pyplot as plt\n",
    "import pandas as pd"
   ]
  },
  {
   "cell_type": "code",
   "execution_count": 2,
   "metadata": {},
   "outputs": [],
   "source": [
    "def get_df(results_file: str):\n",
    "\treturn pd.read_csv(results_file, index_col=\"workers\")"
   ]
  },
  {
   "cell_type": "code",
   "execution_count": 44,
   "metadata": {},
   "outputs": [],
   "source": [
    "def latency_vs_workers_box(df: pd.DataFrame):\n",
    "\tbp = plt.boxplot(df.transpose(), positions=df.index.tolist(), bootstrap=1000, showmeans=True, meanline=True, showfliers=False)\n",
    "\tplt.legend([bp['medians'][0], bp['means'][0]], ['median', 'mean'])\n",
    "\tplt.title(\"Latency vs Workers\")\n",
    "\tplt.xlabel(\"Workers (processes)\")\n",
    "\tplt.ylabel(\"Latency (ms)\")\n",
    "\tplt.xticks(df.index.tolist(), labels=df.index.tolist())\n",
    "\tplt.grid()\n",
    "\n",
    "def latency_vs_workers_plot(dfs: pd.DataFrame, logscale: bool):\n",
    "\tfor (label, df), color in zip(dfs.items(), (\"red\", \"green\", \"blue\")):\n",
    "\t\tplt.errorbar(df.index, df.mean(1), yerr=df.std(1), color=color, label=label, ecolor=\"black\", capsize=4.0)\n",
    "\tplt.legend()\n",
    "\tplt.title(\"Latency vs Workers\")\n",
    "\tplt.xlabel(\"Workers (processes)\")\n",
    "\tplt.ylabel(\"Latency (ms)\")\n",
    "\tplt.xticks(df.index.tolist(), labels=df.index.tolist())\n",
    "\tif logscale:\n",
    "\t\tplt.yscale(\"log\", subs=list(range(10)))\n",
    "\tplt.grid()"
   ]
  },
  {
   "cell_type": "code",
   "execution_count": 40,
   "metadata": {},
   "outputs": [],
   "source": [
    "names = [\"pump\"]  # [\"demo\", \"pump\", \"temperature\", \"ultra\"]\n",
    "sizes = [100000, 1000000, 10000000]  # [10, 100, 1000, 1000000, 1000000]\n",
    "trials = 50\n",
    "for name in names:\n",
    "\tcfg_file = Path(f\"../cfgs/{name}.pickle\")\n",
    "\tfor size in sizes:\n",
    "\t\tout = Path(f\"output/{name}/{size}/{trials}.csv\")\n",
    "\t\tdf = get_df(out)\n",
    "\t\tlatency_vs_workers_box(df)\n",
    "\t\tplt.savefig(out.with_suffix(\".png\"), dpi=800)\n",
    "\t\tplt.close()"
   ]
  },
  {
   "cell_type": "code",
   "execution_count": 46,
   "metadata": {},
   "outputs": [],
   "source": [
    "names = [\"pump\"]  # [\"demo\", \"pump\", \"temperature\", \"ultra\"]\n",
    "sizes = [100000, 1000000, 10000000]  # [10, 100, 1000, 1000000, 1000000]\n",
    "trials = 50\n",
    "size_to_bytes = {100000: \"800K\", 1000000: \"8.6M\", 10000000: \"86M\"}\n",
    "for name in names:\n",
    "\tcfg_file = Path(f\"../cfgs/{name}.pickle\")\n",
    "\tdfs = {}\n",
    "\tfor size in sizes:\n",
    "\t\tout = Path(f\"output/{name}/{size}/{trials}.csv\")\n",
    "\t\tdfs[size_to_bytes[size]] = get_df(out)\n",
    "\tfor logscale in (True, False):\n",
    "\t\tout = Path(f\"output/{name}/{trials}_{logscale}.csv\")\n",
    "\t\tlatency_vs_workers_plot(dfs, logscale)\n",
    "\t\tplt.savefig(out.with_suffix(\".png\"), dpi=800)\n",
    "\t\tplt.close()"
   ]
  },
  {
   "cell_type": "code",
   "execution_count": null,
   "metadata": {},
   "outputs": [],
   "source": []
  }
 ],
 "metadata": {
  "kernelspec": {
   "display_name": "CISC830",
   "language": "python",
   "name": "python3"
  },
  "language_info": {
   "codemirror_mode": {
    "name": "ipython",
    "version": 3
   },
   "file_extension": ".py",
   "mimetype": "text/x-python",
   "name": "python",
   "nbconvert_exporter": "python",
   "pygments_lexer": "ipython3",
   "version": "3.11.3"
  },
  "orig_nbformat": 4
 },
 "nbformat": 4,
 "nbformat_minor": 2
}
